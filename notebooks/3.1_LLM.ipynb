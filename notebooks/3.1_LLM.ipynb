{
 "cells": [
  {
   "cell_type": "code",
   "execution_count": 2,
   "metadata": {},
   "outputs": [
    {
     "name": "stdout",
     "output_type": "stream",
     "text": [
      "Ankara\n"
     ]
    }
   ],
   "source": [
    "import requests\n",
    "import os  # Importation de la bibliothèque os\n",
    "\n",
    "def call_chatgpt(prompt):\n",
    "    api_key = os.getenv('OPENAI_API_KEY')  # Lecture de la clé API depuis une variable d'environnement\n",
    "    if not api_key:\n",
    "        raise ValueError(\"API key is not set. Please set the OPENAI_API_KEY environment variable.\")\n",
    "\n",
    "    url = \"https://api.openai.com/v1/chat/completions\"\n",
    "    headers = {\n",
    "        'Authorization': f'Bearer {api_key}',\n",
    "        'Content-Type': 'application/json'\n",
    "    }\n",
    "    payload = {\n",
    "        'model': 'gpt-3.5-turbo',  # Modification du modèle à gpt-3.5-turbo\n",
    "        'messages': [{\n",
    "            'role': 'user',\n",
    "            'content': prompt\n",
    "        }]\n",
    "    }\n",
    "    response = requests.post(url, headers=headers, json=payload)\n",
    "    if response.status_code == 200:\n",
    "        return response.json()['choices'][0]['message']['content']\n",
    "    else:\n",
    "        return f\"Error {response.status_code}: {response.text}\"\n",
    "\n",
    "# Test de la fonction\n",
    "prompt = \"What is the capital of Turkey?\"\n",
    "result = call_chatgpt(prompt)\n",
    "print(result)\n"
   ]
  },
  {
   "cell_type": "code",
   "execution_count": 3,
   "metadata": {},
   "outputs": [
    {
     "name": "stdout",
     "output_type": "stream",
     "text": [
      "<class 'pandas.core.frame.DataFrame'>\n",
      "RangeIndex: 4711680 entries, 0 to 4711679\n",
      "Data columns (total 19 columns):\n",
      " #   Column         Dtype  \n",
      "---  ------         -----  \n",
      " 0   stn            object \n",
      " 1   xchills0       float64\n",
      " 2   gre000z0       float64\n",
      " 3   prestas0       float64\n",
      " 4   tre200s0       float64\n",
      " 5   rre150z0       float64\n",
      " 6   ure200s0       float64\n",
      " 7   sre000z0       float64\n",
      " 8   fu3010z0       float64\n",
      " 9   dkl010z0       float64\n",
      " 10  year           float64\n",
      " 11  day_of_year    int64  \n",
      " 12  minute_of_day  int64  \n",
      " 13  name           object \n",
      " 14  longitude      float64\n",
      " 15  latitude       float64\n",
      " 16  km_longitude   float64\n",
      " 17  km_latitude    float64\n",
      " 18  altitude       float64\n",
      "dtypes: float64(15), int64(2), object(2)\n",
      "memory usage: 683.0+ MB\n"
     ]
    }
   ],
   "source": [
    "import pandas as pd\n",
    "import seaborn as sns\n",
    "import matplotlib.pyplot as plt\n",
    "import numpy as np\n",
    "\n",
    "\n",
    "data_path = \"C:/Users/Abdi/Desktop/data/raw/meteo_idaweb.csv\"\n",
    "data = pd.read_csv(data_path)\n",
    "\n",
    "\n",
    "data_info = data.info()\n",
    "data_head = data.head()"
   ]
  },
  {
   "cell_type": "code",
   "execution_count": 4,
   "metadata": {},
   "outputs": [
    {
     "data": {
      "text/plain": [
       "(\"Le jour 1 de l'année 2020.0, à 0 minutes après minuit, la station météorologique Adelboden (code ABO) située à une altitude de 1321.0 mètres, a enregistré une température de l'air de 2.7°C, une température ressentie de 2.7°C, une pression atmosphérique de 879.1 hPa, une humidité de 55.9%, des précipitations de 0.0 mm, et une profondeur de neige de 0.0 cm. La vitesse du vent était de 2.2 m/s venant de la direction 228.0 degrés.\",\n",
       " \"Le jour 1 de l'année 2020.0, à 0 minutes après minuit, la station météorologique Adelboden (code ABO) située à une altitude de 1321.0 mètres, a enregistré une température de l'air de 2.7°C, une température ressentie de 2.7°C, une pression atmosphérique de 879.1 hPa, une humidité de 55.9%, des précipitations de 0.0 mm, et une profondeur de neige de 0.0 cm. La vitesse du vent était de 2.2 m/s venant de la direction 228.0 degrés. Sur la base de ces données, quelle serait votre prédiction météorologique pour le reste de la journée? Veuillez considérer les modèles habituels de changements météorologiques pour cette période de l'année et cette localisation.\")"
      ]
     },
     "execution_count": 4,
     "metadata": {},
     "output_type": "execute_result"
    }
   ],
   "source": [
    "# Renaming columns based on user input to match the more descriptive names provided\n",
    "data.rename(columns={\n",
    "    'stn': 'station_code',\n",
    "    'xchills0': 'wind_chill',\n",
    "    'gre000z0': 'solar_radiation',\n",
    "    'prestas0': 'atmospheric_pressure',\n",
    "    'tre200s0': 'temperature_2m',\n",
    "    'rre150z0': 'precipitation_1h',\n",
    "    'ure200s0': 'humidity_2m',\n",
    "    'sre000z0': 'snow_depth',\n",
    "    'fu3010z0': 'wind_speed_10m',\n",
    "    'dkl010z0': 'wind_direction_10m',\n",
    "    'name': 'station_name',\n",
    "    'km_longitude': 'longitude_km',\n",
    "    'km_latitude': 'latitude_km'\n",
    "}, inplace=True)\n",
    "\n",
    "# Extracting data from the first row with new column names\n",
    "first_row_updated = data.iloc[0]\n",
    "\n",
    "# Formatting the extracted data into a string\n",
    "formatted_data_updated = (\n",
    "    f\"Le jour {first_row_updated['day_of_year']} de l'année {first_row_updated['year']}, à {first_row_updated['minute_of_day']} minutes après minuit, \"\n",
    "    f\"la station météorologique {first_row_updated['station_name']} (code {first_row_updated['station_code']}) située à une altitude de {first_row_updated['altitude']} mètres, \"\n",
    "    f\"a enregistré une température de l'air de {first_row_updated['temperature_2m']}°C, une température ressentie de {first_row_updated['wind_chill']}°C, \"\n",
    "    f\"une pression atmosphérique de {first_row_updated['atmospheric_pressure']} hPa, une humidité de {first_row_updated['humidity_2m']}%, \"\n",
    "    f\"des précipitations de {first_row_updated['precipitation_1h']} mm, et une profondeur de neige de {first_row_updated['snow_depth']} cm. \"\n",
    "    f\"La vitesse du vent était de {first_row_updated['wind_speed_10m']} m/s venant de la direction {first_row_updated['wind_direction_10m']} degrés.\"\n",
    ")\n",
    "\n",
    "# Constructing the full prompt with an explanatory comment for the LLM\n",
    "prompt_updated = (\n",
    "    f\"{formatted_data_updated} Sur la base de ces données, quelle serait votre prédiction météorologique pour le reste de la journée? \"\n",
    "    \"Veuillez considérer les modèles habituels de changements météorologiques pour cette période de l'année et cette localisation.\"\n",
    ")\n",
    "\n",
    "formatted_data_updated, prompt_updated\n"
   ]
  },
  {
   "cell_type": "markdown",
   "metadata": {},
   "source": [
    "Extraire toutes les données et les formater en chaînes de caractères pour chaque enregistrement"
   ]
  },
  {
   "cell_type": "code",
   "execution_count": 5,
   "metadata": {},
   "outputs": [
    {
     "data": {
      "text/plain": [
       "0    Le jour 1 de l'année 2020.0, à 0 minutes après...\n",
       "1    Le jour 1 de l'année 2020.0, à 10 minutes aprè...\n",
       "2    Le jour 1 de l'année 2020.0, à 20 minutes aprè...\n",
       "3    Le jour 1 de l'année 2020.0, à 30 minutes aprè...\n",
       "4    Le jour 1 de l'année 2020.0, à 40 minutes aprè...\n",
       "dtype: object"
      ]
     },
     "execution_count": 5,
     "metadata": {},
     "output_type": "execute_result"
    }
   ],
   "source": [
    "# Function to format each row into a descriptive string\n",
    "def format_weather_data(row):\n",
    "    return (\n",
    "        f\"Le jour {row['day_of_year']} de l'année {row['year']}, à {row['minute_of_day']} minutes après minuit, \"\n",
    "        f\"la station météorologique {row['station_name']} (code {row['station_code']}) située à une altitude de {row['altitude']} mètres, \"\n",
    "        f\"a enregistré une température de l'air de {row['temperature_2m']}°C, une température ressentie de {row['wind_chill']}°C, \"\n",
    "        f\"une pression atmosphérique de {row['atmospheric_pressure']} hPa, une humidité de {row['humidity_2m']}%, \"\n",
    "        f\"des précipitations de {row['precipitation_1h']} mm, et une profondeur de neige de {row['snow_depth']} cm. \"\n",
    "        f\"La vitesse du vent était de {row['wind_speed_10m']} m/s venant de la direction {row['wind_direction_10m']} degrés.\"\n",
    "    )\n",
    "\n",
    "# Apply the formatting function to each row in the dataset\n",
    "formatted_weather_data = data.apply(format_weather_data, axis=1)\n",
    "\n",
    "# Display the first few formatted entries\n",
    "formatted_weather_data.head()\n"
   ]
  },
  {
   "cell_type": "markdown",
   "metadata": {},
   "source": [
    "Creation de prompt\n",
    "Inclure un commentaire ou une question spécifique qui oriente le modèle sur ce que nous souhaitons obtenir comme information ou analyse"
   ]
  },
  {
   "cell_type": "code",
   "execution_count": 6,
   "metadata": {},
   "outputs": [
    {
     "ename": "OverflowError",
     "evalue": "string longer than 2147483647 bytes",
     "output_type": "error",
     "traceback": [
      "\u001b[1;31m---------------------------------------------------------------------------\u001b[0m",
      "\u001b[1;31mOverflowError\u001b[0m                             Traceback (most recent call last)",
      "Cell \u001b[1;32mIn[6], line 9\u001b[0m\n\u001b[0;32m      7\u001b[0m \u001b[38;5;66;03m# Création du prompt\u001b[39;00m\n\u001b[0;32m      8\u001b[0m prompt \u001b[38;5;241m=\u001b[39m \u001b[38;5;124mf\u001b[39m\u001b[38;5;124m\"\u001b[39m\u001b[38;5;124mVoici les conditions météorologiques enregistrées à différentes heures pour tous les stations: \u001b[39m\u001b[38;5;132;01m{\u001b[39;00mcombined_data\u001b[38;5;132;01m}\u001b[39;00m\u001b[38;5;124m Sur la base de ces informations, il ya combien des stations?\u001b[39m\u001b[38;5;124m\"\u001b[39m\n\u001b[1;32m----> 9\u001b[0m result \u001b[38;5;241m=\u001b[39m \u001b[43mcall_chatgpt\u001b[49m\u001b[43m(\u001b[49m\u001b[43mprompt\u001b[49m\u001b[43m)\u001b[49m\n\u001b[0;32m     10\u001b[0m \u001b[38;5;28mprint\u001b[39m(result)\n\u001b[0;32m     11\u001b[0m \u001b[38;5;28mprint\u001b[39m(prompt)\n",
      "Cell \u001b[1;32mIn[2], line 21\u001b[0m, in \u001b[0;36mcall_chatgpt\u001b[1;34m(prompt)\u001b[0m\n\u001b[0;32m     10\u001b[0m headers \u001b[38;5;241m=\u001b[39m {\n\u001b[0;32m     11\u001b[0m     \u001b[38;5;124m'\u001b[39m\u001b[38;5;124mAuthorization\u001b[39m\u001b[38;5;124m'\u001b[39m: \u001b[38;5;124mf\u001b[39m\u001b[38;5;124m'\u001b[39m\u001b[38;5;124mBearer \u001b[39m\u001b[38;5;132;01m{\u001b[39;00mapi_key\u001b[38;5;132;01m}\u001b[39;00m\u001b[38;5;124m'\u001b[39m,\n\u001b[0;32m     12\u001b[0m     \u001b[38;5;124m'\u001b[39m\u001b[38;5;124mContent-Type\u001b[39m\u001b[38;5;124m'\u001b[39m: \u001b[38;5;124m'\u001b[39m\u001b[38;5;124mapplication/json\u001b[39m\u001b[38;5;124m'\u001b[39m\n\u001b[0;32m     13\u001b[0m }\n\u001b[0;32m     14\u001b[0m payload \u001b[38;5;241m=\u001b[39m {\n\u001b[0;32m     15\u001b[0m     \u001b[38;5;124m'\u001b[39m\u001b[38;5;124mmodel\u001b[39m\u001b[38;5;124m'\u001b[39m: \u001b[38;5;124m'\u001b[39m\u001b[38;5;124mgpt-3.5-turbo\u001b[39m\u001b[38;5;124m'\u001b[39m,  \u001b[38;5;66;03m# Modification du modèle à gpt-3.5-turbo\u001b[39;00m\n\u001b[0;32m     16\u001b[0m     \u001b[38;5;124m'\u001b[39m\u001b[38;5;124mmessages\u001b[39m\u001b[38;5;124m'\u001b[39m: [{\n\u001b[1;32m   (...)\u001b[0m\n\u001b[0;32m     19\u001b[0m     }]\n\u001b[0;32m     20\u001b[0m }\n\u001b[1;32m---> 21\u001b[0m response \u001b[38;5;241m=\u001b[39m \u001b[43mrequests\u001b[49m\u001b[38;5;241;43m.\u001b[39;49m\u001b[43mpost\u001b[49m\u001b[43m(\u001b[49m\u001b[43murl\u001b[49m\u001b[43m,\u001b[49m\u001b[43m \u001b[49m\u001b[43mheaders\u001b[49m\u001b[38;5;241;43m=\u001b[39;49m\u001b[43mheaders\u001b[49m\u001b[43m,\u001b[49m\u001b[43m \u001b[49m\u001b[43mjson\u001b[49m\u001b[38;5;241;43m=\u001b[39;49m\u001b[43mpayload\u001b[49m\u001b[43m)\u001b[49m\n\u001b[0;32m     22\u001b[0m \u001b[38;5;28;01mif\u001b[39;00m response\u001b[38;5;241m.\u001b[39mstatus_code \u001b[38;5;241m==\u001b[39m \u001b[38;5;241m200\u001b[39m:\n\u001b[0;32m     23\u001b[0m     \u001b[38;5;28;01mreturn\u001b[39;00m response\u001b[38;5;241m.\u001b[39mjson()[\u001b[38;5;124m'\u001b[39m\u001b[38;5;124mchoices\u001b[39m\u001b[38;5;124m'\u001b[39m][\u001b[38;5;241m0\u001b[39m][\u001b[38;5;124m'\u001b[39m\u001b[38;5;124mmessage\u001b[39m\u001b[38;5;124m'\u001b[39m][\u001b[38;5;124m'\u001b[39m\u001b[38;5;124mcontent\u001b[39m\u001b[38;5;124m'\u001b[39m]\n",
      "File \u001b[1;32mc:\\Users\\Abdi\\AppData\\Local\\Programs\\Python\\Python39\\lib\\site-packages\\requests\\api.py:119\u001b[0m, in \u001b[0;36mpost\u001b[1;34m(url, data, json, **kwargs)\u001b[0m\n\u001b[0;32m    107\u001b[0m \u001b[38;5;28;01mdef\u001b[39;00m \u001b[38;5;21mpost\u001b[39m(url, data\u001b[38;5;241m=\u001b[39m\u001b[38;5;28;01mNone\u001b[39;00m, json\u001b[38;5;241m=\u001b[39m\u001b[38;5;28;01mNone\u001b[39;00m, \u001b[38;5;241m*\u001b[39m\u001b[38;5;241m*\u001b[39mkwargs):\n\u001b[0;32m    108\u001b[0m \u001b[38;5;250m    \u001b[39m\u001b[38;5;124mr\u001b[39m\u001b[38;5;124;03m\"\"\"Sends a POST request.\u001b[39;00m\n\u001b[0;32m    109\u001b[0m \n\u001b[0;32m    110\u001b[0m \u001b[38;5;124;03m    :param url: URL for the new :class:`Request` object.\u001b[39;00m\n\u001b[1;32m   (...)\u001b[0m\n\u001b[0;32m    116\u001b[0m \u001b[38;5;124;03m    :rtype: requests.Response\u001b[39;00m\n\u001b[0;32m    117\u001b[0m \u001b[38;5;124;03m    \"\"\"\u001b[39;00m\n\u001b[1;32m--> 119\u001b[0m     \u001b[38;5;28;01mreturn\u001b[39;00m request(\u001b[38;5;124m'\u001b[39m\u001b[38;5;124mpost\u001b[39m\u001b[38;5;124m'\u001b[39m, url, data\u001b[38;5;241m=\u001b[39mdata, json\u001b[38;5;241m=\u001b[39mjson, \u001b[38;5;241m*\u001b[39m\u001b[38;5;241m*\u001b[39mkwargs)\n",
      "File \u001b[1;32mc:\\Users\\Abdi\\AppData\\Local\\Programs\\Python\\Python39\\lib\\site-packages\\requests\\api.py:61\u001b[0m, in \u001b[0;36mrequest\u001b[1;34m(method, url, **kwargs)\u001b[0m\n\u001b[0;32m     57\u001b[0m \u001b[38;5;66;03m# By using the 'with' statement we are sure the session is closed, thus we\u001b[39;00m\n\u001b[0;32m     58\u001b[0m \u001b[38;5;66;03m# avoid leaving sockets open which can trigger a ResourceWarning in some\u001b[39;00m\n\u001b[0;32m     59\u001b[0m \u001b[38;5;66;03m# cases, and look like a memory leak in others.\u001b[39;00m\n\u001b[0;32m     60\u001b[0m \u001b[38;5;28;01mwith\u001b[39;00m sessions\u001b[38;5;241m.\u001b[39mSession() \u001b[38;5;28;01mas\u001b[39;00m session:\n\u001b[1;32m---> 61\u001b[0m     \u001b[38;5;28;01mreturn\u001b[39;00m session\u001b[38;5;241m.\u001b[39mrequest(method\u001b[38;5;241m=\u001b[39mmethod, url\u001b[38;5;241m=\u001b[39murl, \u001b[38;5;241m*\u001b[39m\u001b[38;5;241m*\u001b[39mkwargs)\n",
      "File \u001b[1;32mc:\\Users\\Abdi\\AppData\\Local\\Programs\\Python\\Python39\\lib\\site-packages\\requests\\sessions.py:542\u001b[0m, in \u001b[0;36mSession.request\u001b[1;34m(self, method, url, params, data, headers, cookies, files, auth, timeout, allow_redirects, proxies, hooks, stream, verify, cert, json)\u001b[0m\n\u001b[0;32m    537\u001b[0m send_kwargs \u001b[38;5;241m=\u001b[39m {\n\u001b[0;32m    538\u001b[0m     \u001b[38;5;124m'\u001b[39m\u001b[38;5;124mtimeout\u001b[39m\u001b[38;5;124m'\u001b[39m: timeout,\n\u001b[0;32m    539\u001b[0m     \u001b[38;5;124m'\u001b[39m\u001b[38;5;124mallow_redirects\u001b[39m\u001b[38;5;124m'\u001b[39m: allow_redirects,\n\u001b[0;32m    540\u001b[0m }\n\u001b[0;32m    541\u001b[0m send_kwargs\u001b[38;5;241m.\u001b[39mupdate(settings)\n\u001b[1;32m--> 542\u001b[0m resp \u001b[38;5;241m=\u001b[39m \u001b[38;5;28mself\u001b[39m\u001b[38;5;241m.\u001b[39msend(prep, \u001b[38;5;241m*\u001b[39m\u001b[38;5;241m*\u001b[39msend_kwargs)\n\u001b[0;32m    544\u001b[0m \u001b[38;5;28;01mreturn\u001b[39;00m resp\n",
      "File \u001b[1;32mc:\\Users\\Abdi\\AppData\\Local\\Programs\\Python\\Python39\\lib\\site-packages\\requests\\sessions.py:655\u001b[0m, in \u001b[0;36mSession.send\u001b[1;34m(self, request, **kwargs)\u001b[0m\n\u001b[0;32m    652\u001b[0m start \u001b[38;5;241m=\u001b[39m preferred_clock()\n\u001b[0;32m    654\u001b[0m \u001b[38;5;66;03m# Send the request\u001b[39;00m\n\u001b[1;32m--> 655\u001b[0m r \u001b[38;5;241m=\u001b[39m adapter\u001b[38;5;241m.\u001b[39msend(request, \u001b[38;5;241m*\u001b[39m\u001b[38;5;241m*\u001b[39mkwargs)\n\u001b[0;32m    657\u001b[0m \u001b[38;5;66;03m# Total elapsed time of the request (approximately)\u001b[39;00m\n\u001b[0;32m    658\u001b[0m elapsed \u001b[38;5;241m=\u001b[39m preferred_clock() \u001b[38;5;241m-\u001b[39m start\n",
      "File \u001b[1;32mc:\\Users\\Abdi\\AppData\\Local\\Programs\\Python\\Python39\\lib\\site-packages\\requests\\adapters.py:439\u001b[0m, in \u001b[0;36mHTTPAdapter.send\u001b[1;34m(self, request, stream, timeout, verify, cert, proxies)\u001b[0m\n\u001b[0;32m    437\u001b[0m \u001b[38;5;28;01mtry\u001b[39;00m:\n\u001b[0;32m    438\u001b[0m     \u001b[38;5;28;01mif\u001b[39;00m \u001b[38;5;129;01mnot\u001b[39;00m chunked:\n\u001b[1;32m--> 439\u001b[0m         resp \u001b[38;5;241m=\u001b[39m \u001b[43mconn\u001b[49m\u001b[38;5;241;43m.\u001b[39;49m\u001b[43murlopen\u001b[49m\u001b[43m(\u001b[49m\n\u001b[0;32m    440\u001b[0m \u001b[43m            \u001b[49m\u001b[43mmethod\u001b[49m\u001b[38;5;241;43m=\u001b[39;49m\u001b[43mrequest\u001b[49m\u001b[38;5;241;43m.\u001b[39;49m\u001b[43mmethod\u001b[49m\u001b[43m,\u001b[49m\n\u001b[0;32m    441\u001b[0m \u001b[43m            \u001b[49m\u001b[43murl\u001b[49m\u001b[38;5;241;43m=\u001b[39;49m\u001b[43murl\u001b[49m\u001b[43m,\u001b[49m\n\u001b[0;32m    442\u001b[0m \u001b[43m            \u001b[49m\u001b[43mbody\u001b[49m\u001b[38;5;241;43m=\u001b[39;49m\u001b[43mrequest\u001b[49m\u001b[38;5;241;43m.\u001b[39;49m\u001b[43mbody\u001b[49m\u001b[43m,\u001b[49m\n\u001b[0;32m    443\u001b[0m \u001b[43m            \u001b[49m\u001b[43mheaders\u001b[49m\u001b[38;5;241;43m=\u001b[39;49m\u001b[43mrequest\u001b[49m\u001b[38;5;241;43m.\u001b[39;49m\u001b[43mheaders\u001b[49m\u001b[43m,\u001b[49m\n\u001b[0;32m    444\u001b[0m \u001b[43m            \u001b[49m\u001b[43mredirect\u001b[49m\u001b[38;5;241;43m=\u001b[39;49m\u001b[38;5;28;43;01mFalse\u001b[39;49;00m\u001b[43m,\u001b[49m\n\u001b[0;32m    445\u001b[0m \u001b[43m            \u001b[49m\u001b[43massert_same_host\u001b[49m\u001b[38;5;241;43m=\u001b[39;49m\u001b[38;5;28;43;01mFalse\u001b[39;49;00m\u001b[43m,\u001b[49m\n\u001b[0;32m    446\u001b[0m \u001b[43m            \u001b[49m\u001b[43mpreload_content\u001b[49m\u001b[38;5;241;43m=\u001b[39;49m\u001b[38;5;28;43;01mFalse\u001b[39;49;00m\u001b[43m,\u001b[49m\n\u001b[0;32m    447\u001b[0m \u001b[43m            \u001b[49m\u001b[43mdecode_content\u001b[49m\u001b[38;5;241;43m=\u001b[39;49m\u001b[38;5;28;43;01mFalse\u001b[39;49;00m\u001b[43m,\u001b[49m\n\u001b[0;32m    448\u001b[0m \u001b[43m            \u001b[49m\u001b[43mretries\u001b[49m\u001b[38;5;241;43m=\u001b[39;49m\u001b[38;5;28;43mself\u001b[39;49m\u001b[38;5;241;43m.\u001b[39;49m\u001b[43mmax_retries\u001b[49m\u001b[43m,\u001b[49m\n\u001b[0;32m    449\u001b[0m \u001b[43m            \u001b[49m\u001b[43mtimeout\u001b[49m\u001b[38;5;241;43m=\u001b[39;49m\u001b[43mtimeout\u001b[49m\n\u001b[0;32m    450\u001b[0m \u001b[43m        \u001b[49m\u001b[43m)\u001b[49m\n\u001b[0;32m    452\u001b[0m     \u001b[38;5;66;03m# Send the request.\u001b[39;00m\n\u001b[0;32m    453\u001b[0m     \u001b[38;5;28;01melse\u001b[39;00m:\n\u001b[0;32m    454\u001b[0m         \u001b[38;5;28;01mif\u001b[39;00m \u001b[38;5;28mhasattr\u001b[39m(conn, \u001b[38;5;124m'\u001b[39m\u001b[38;5;124mproxy_pool\u001b[39m\u001b[38;5;124m'\u001b[39m):\n",
      "File \u001b[1;32mc:\\Users\\Abdi\\AppData\\Local\\Programs\\Python\\Python39\\lib\\site-packages\\urllib3\\connectionpool.py:699\u001b[0m, in \u001b[0;36mHTTPConnectionPool.urlopen\u001b[1;34m(self, method, url, body, headers, retries, redirect, assert_same_host, timeout, pool_timeout, release_conn, chunked, body_pos, **response_kw)\u001b[0m\n\u001b[0;32m    696\u001b[0m     \u001b[38;5;28mself\u001b[39m\u001b[38;5;241m.\u001b[39m_prepare_proxy(conn)\n\u001b[0;32m    698\u001b[0m \u001b[38;5;66;03m# Make the request on the httplib connection object.\u001b[39;00m\n\u001b[1;32m--> 699\u001b[0m httplib_response \u001b[38;5;241m=\u001b[39m \u001b[38;5;28;43mself\u001b[39;49m\u001b[38;5;241;43m.\u001b[39;49m\u001b[43m_make_request\u001b[49m\u001b[43m(\u001b[49m\n\u001b[0;32m    700\u001b[0m \u001b[43m    \u001b[49m\u001b[43mconn\u001b[49m\u001b[43m,\u001b[49m\n\u001b[0;32m    701\u001b[0m \u001b[43m    \u001b[49m\u001b[43mmethod\u001b[49m\u001b[43m,\u001b[49m\n\u001b[0;32m    702\u001b[0m \u001b[43m    \u001b[49m\u001b[43murl\u001b[49m\u001b[43m,\u001b[49m\n\u001b[0;32m    703\u001b[0m \u001b[43m    \u001b[49m\u001b[43mtimeout\u001b[49m\u001b[38;5;241;43m=\u001b[39;49m\u001b[43mtimeout_obj\u001b[49m\u001b[43m,\u001b[49m\n\u001b[0;32m    704\u001b[0m \u001b[43m    \u001b[49m\u001b[43mbody\u001b[49m\u001b[38;5;241;43m=\u001b[39;49m\u001b[43mbody\u001b[49m\u001b[43m,\u001b[49m\n\u001b[0;32m    705\u001b[0m \u001b[43m    \u001b[49m\u001b[43mheaders\u001b[49m\u001b[38;5;241;43m=\u001b[39;49m\u001b[43mheaders\u001b[49m\u001b[43m,\u001b[49m\n\u001b[0;32m    706\u001b[0m \u001b[43m    \u001b[49m\u001b[43mchunked\u001b[49m\u001b[38;5;241;43m=\u001b[39;49m\u001b[43mchunked\u001b[49m\u001b[43m,\u001b[49m\n\u001b[0;32m    707\u001b[0m \u001b[43m\u001b[49m\u001b[43m)\u001b[49m\n\u001b[0;32m    709\u001b[0m \u001b[38;5;66;03m# If we're going to release the connection in ``finally:``, then\u001b[39;00m\n\u001b[0;32m    710\u001b[0m \u001b[38;5;66;03m# the response doesn't need to know about the connection. Otherwise\u001b[39;00m\n\u001b[0;32m    711\u001b[0m \u001b[38;5;66;03m# it will also try to release it and we'll have a double-release\u001b[39;00m\n\u001b[0;32m    712\u001b[0m \u001b[38;5;66;03m# mess.\u001b[39;00m\n\u001b[0;32m    713\u001b[0m response_conn \u001b[38;5;241m=\u001b[39m conn \u001b[38;5;28;01mif\u001b[39;00m \u001b[38;5;129;01mnot\u001b[39;00m release_conn \u001b[38;5;28;01melse\u001b[39;00m \u001b[38;5;28;01mNone\u001b[39;00m\n",
      "File \u001b[1;32mc:\\Users\\Abdi\\AppData\\Local\\Programs\\Python\\Python39\\lib\\site-packages\\urllib3\\connectionpool.py:394\u001b[0m, in \u001b[0;36mHTTPConnectionPool._make_request\u001b[1;34m(self, conn, method, url, timeout, chunked, **httplib_request_kw)\u001b[0m\n\u001b[0;32m    392\u001b[0m         conn\u001b[38;5;241m.\u001b[39mrequest_chunked(method, url, \u001b[38;5;241m*\u001b[39m\u001b[38;5;241m*\u001b[39mhttplib_request_kw)\n\u001b[0;32m    393\u001b[0m     \u001b[38;5;28;01melse\u001b[39;00m:\n\u001b[1;32m--> 394\u001b[0m         conn\u001b[38;5;241m.\u001b[39mrequest(method, url, \u001b[38;5;241m*\u001b[39m\u001b[38;5;241m*\u001b[39mhttplib_request_kw)\n\u001b[0;32m    396\u001b[0m \u001b[38;5;66;03m# We are swallowing BrokenPipeError (errno.EPIPE) since the server is\u001b[39;00m\n\u001b[0;32m    397\u001b[0m \u001b[38;5;66;03m# legitimately able to close the connection after sending a valid response.\u001b[39;00m\n\u001b[0;32m    398\u001b[0m \u001b[38;5;66;03m# With this behaviour, the received response is still readable.\u001b[39;00m\n\u001b[0;32m    399\u001b[0m \u001b[38;5;28;01mexcept\u001b[39;00m \u001b[38;5;167;01mBrokenPipeError\u001b[39;00m:\n\u001b[0;32m    400\u001b[0m     \u001b[38;5;66;03m# Python 3\u001b[39;00m\n",
      "File \u001b[1;32mc:\\Users\\Abdi\\AppData\\Local\\Programs\\Python\\Python39\\lib\\site-packages\\urllib3\\connection.py:234\u001b[0m, in \u001b[0;36mHTTPConnection.request\u001b[1;34m(self, method, url, body, headers)\u001b[0m\n\u001b[0;32m    232\u001b[0m \u001b[38;5;28;01mif\u001b[39;00m \u001b[38;5;124m\"\u001b[39m\u001b[38;5;124muser-agent\u001b[39m\u001b[38;5;124m\"\u001b[39m \u001b[38;5;129;01mnot\u001b[39;00m \u001b[38;5;129;01min\u001b[39;00m (six\u001b[38;5;241m.\u001b[39mensure_str(k\u001b[38;5;241m.\u001b[39mlower()) \u001b[38;5;28;01mfor\u001b[39;00m k \u001b[38;5;129;01min\u001b[39;00m headers):\n\u001b[0;32m    233\u001b[0m     headers[\u001b[38;5;124m\"\u001b[39m\u001b[38;5;124mUser-Agent\u001b[39m\u001b[38;5;124m\"\u001b[39m] \u001b[38;5;241m=\u001b[39m _get_default_user_agent()\n\u001b[1;32m--> 234\u001b[0m \u001b[38;5;28;43msuper\u001b[39;49m\u001b[43m(\u001b[49m\u001b[43mHTTPConnection\u001b[49m\u001b[43m,\u001b[49m\u001b[43m \u001b[49m\u001b[38;5;28;43mself\u001b[39;49m\u001b[43m)\u001b[49m\u001b[38;5;241;43m.\u001b[39;49m\u001b[43mrequest\u001b[49m\u001b[43m(\u001b[49m\u001b[43mmethod\u001b[49m\u001b[43m,\u001b[49m\u001b[43m \u001b[49m\u001b[43murl\u001b[49m\u001b[43m,\u001b[49m\u001b[43m \u001b[49m\u001b[43mbody\u001b[49m\u001b[38;5;241;43m=\u001b[39;49m\u001b[43mbody\u001b[49m\u001b[43m,\u001b[49m\u001b[43m \u001b[49m\u001b[43mheaders\u001b[49m\u001b[38;5;241;43m=\u001b[39;49m\u001b[43mheaders\u001b[49m\u001b[43m)\u001b[49m\n",
      "File \u001b[1;32mc:\\Users\\Abdi\\AppData\\Local\\Programs\\Python\\Python39\\lib\\http\\client.py:1255\u001b[0m, in \u001b[0;36mHTTPConnection.request\u001b[1;34m(self, method, url, body, headers, encode_chunked)\u001b[0m\n\u001b[0;32m   1252\u001b[0m \u001b[38;5;28;01mdef\u001b[39;00m \u001b[38;5;21mrequest\u001b[39m(\u001b[38;5;28mself\u001b[39m, method, url, body\u001b[38;5;241m=\u001b[39m\u001b[38;5;28;01mNone\u001b[39;00m, headers\u001b[38;5;241m=\u001b[39m{}, \u001b[38;5;241m*\u001b[39m,\n\u001b[0;32m   1253\u001b[0m             encode_chunked\u001b[38;5;241m=\u001b[39m\u001b[38;5;28;01mFalse\u001b[39;00m):\n\u001b[0;32m   1254\u001b[0m \u001b[38;5;250m    \u001b[39m\u001b[38;5;124;03m\"\"\"Send a complete request to the server.\"\"\"\u001b[39;00m\n\u001b[1;32m-> 1255\u001b[0m     \u001b[38;5;28;43mself\u001b[39;49m\u001b[38;5;241;43m.\u001b[39;49m\u001b[43m_send_request\u001b[49m\u001b[43m(\u001b[49m\u001b[43mmethod\u001b[49m\u001b[43m,\u001b[49m\u001b[43m \u001b[49m\u001b[43murl\u001b[49m\u001b[43m,\u001b[49m\u001b[43m \u001b[49m\u001b[43mbody\u001b[49m\u001b[43m,\u001b[49m\u001b[43m \u001b[49m\u001b[43mheaders\u001b[49m\u001b[43m,\u001b[49m\u001b[43m \u001b[49m\u001b[43mencode_chunked\u001b[49m\u001b[43m)\u001b[49m\n",
      "File \u001b[1;32mc:\\Users\\Abdi\\AppData\\Local\\Programs\\Python\\Python39\\lib\\http\\client.py:1301\u001b[0m, in \u001b[0;36mHTTPConnection._send_request\u001b[1;34m(self, method, url, body, headers, encode_chunked)\u001b[0m\n\u001b[0;32m   1297\u001b[0m \u001b[38;5;28;01mif\u001b[39;00m \u001b[38;5;28misinstance\u001b[39m(body, \u001b[38;5;28mstr\u001b[39m):\n\u001b[0;32m   1298\u001b[0m     \u001b[38;5;66;03m# RFC 2616 Section 3.7.1 says that text default has a\u001b[39;00m\n\u001b[0;32m   1299\u001b[0m     \u001b[38;5;66;03m# default charset of iso-8859-1.\u001b[39;00m\n\u001b[0;32m   1300\u001b[0m     body \u001b[38;5;241m=\u001b[39m _encode(body, \u001b[38;5;124m'\u001b[39m\u001b[38;5;124mbody\u001b[39m\u001b[38;5;124m'\u001b[39m)\n\u001b[1;32m-> 1301\u001b[0m \u001b[38;5;28;43mself\u001b[39;49m\u001b[38;5;241;43m.\u001b[39;49m\u001b[43mendheaders\u001b[49m\u001b[43m(\u001b[49m\u001b[43mbody\u001b[49m\u001b[43m,\u001b[49m\u001b[43m \u001b[49m\u001b[43mencode_chunked\u001b[49m\u001b[38;5;241;43m=\u001b[39;49m\u001b[43mencode_chunked\u001b[49m\u001b[43m)\u001b[49m\n",
      "File \u001b[1;32mc:\\Users\\Abdi\\AppData\\Local\\Programs\\Python\\Python39\\lib\\http\\client.py:1250\u001b[0m, in \u001b[0;36mHTTPConnection.endheaders\u001b[1;34m(self, message_body, encode_chunked)\u001b[0m\n\u001b[0;32m   1248\u001b[0m \u001b[38;5;28;01melse\u001b[39;00m:\n\u001b[0;32m   1249\u001b[0m     \u001b[38;5;28;01mraise\u001b[39;00m CannotSendHeader()\n\u001b[1;32m-> 1250\u001b[0m \u001b[38;5;28;43mself\u001b[39;49m\u001b[38;5;241;43m.\u001b[39;49m\u001b[43m_send_output\u001b[49m\u001b[43m(\u001b[49m\u001b[43mmessage_body\u001b[49m\u001b[43m,\u001b[49m\u001b[43m \u001b[49m\u001b[43mencode_chunked\u001b[49m\u001b[38;5;241;43m=\u001b[39;49m\u001b[43mencode_chunked\u001b[49m\u001b[43m)\u001b[49m\n",
      "File \u001b[1;32mc:\\Users\\Abdi\\AppData\\Local\\Programs\\Python\\Python39\\lib\\http\\client.py:1049\u001b[0m, in \u001b[0;36mHTTPConnection._send_output\u001b[1;34m(self, message_body, encode_chunked)\u001b[0m\n\u001b[0;32m   1045\u001b[0m     \u001b[38;5;28;01mif\u001b[39;00m encode_chunked \u001b[38;5;129;01mand\u001b[39;00m \u001b[38;5;28mself\u001b[39m\u001b[38;5;241m.\u001b[39m_http_vsn \u001b[38;5;241m==\u001b[39m \u001b[38;5;241m11\u001b[39m:\n\u001b[0;32m   1046\u001b[0m         \u001b[38;5;66;03m# chunked encoding\u001b[39;00m\n\u001b[0;32m   1047\u001b[0m         chunk \u001b[38;5;241m=\u001b[39m \u001b[38;5;124mf\u001b[39m\u001b[38;5;124m'\u001b[39m\u001b[38;5;132;01m{\u001b[39;00m\u001b[38;5;28mlen\u001b[39m(chunk)\u001b[38;5;132;01m:\u001b[39;00m\u001b[38;5;124mX\u001b[39m\u001b[38;5;132;01m}\u001b[39;00m\u001b[38;5;130;01m\\r\u001b[39;00m\u001b[38;5;130;01m\\n\u001b[39;00m\u001b[38;5;124m'\u001b[39m\u001b[38;5;241m.\u001b[39mencode(\u001b[38;5;124m'\u001b[39m\u001b[38;5;124mascii\u001b[39m\u001b[38;5;124m'\u001b[39m) \u001b[38;5;241m+\u001b[39m chunk \\\n\u001b[0;32m   1048\u001b[0m             \u001b[38;5;241m+\u001b[39m \u001b[38;5;124mb\u001b[39m\u001b[38;5;124m'\u001b[39m\u001b[38;5;130;01m\\r\u001b[39;00m\u001b[38;5;130;01m\\n\u001b[39;00m\u001b[38;5;124m'\u001b[39m\n\u001b[1;32m-> 1049\u001b[0m     \u001b[38;5;28;43mself\u001b[39;49m\u001b[38;5;241;43m.\u001b[39;49m\u001b[43msend\u001b[49m\u001b[43m(\u001b[49m\u001b[43mchunk\u001b[49m\u001b[43m)\u001b[49m\n\u001b[0;32m   1051\u001b[0m \u001b[38;5;28;01mif\u001b[39;00m encode_chunked \u001b[38;5;129;01mand\u001b[39;00m \u001b[38;5;28mself\u001b[39m\u001b[38;5;241m.\u001b[39m_http_vsn \u001b[38;5;241m==\u001b[39m \u001b[38;5;241m11\u001b[39m:\n\u001b[0;32m   1052\u001b[0m     \u001b[38;5;66;03m# end chunked transfer\u001b[39;00m\n\u001b[0;32m   1053\u001b[0m     \u001b[38;5;28mself\u001b[39m\u001b[38;5;241m.\u001b[39msend(\u001b[38;5;124mb\u001b[39m\u001b[38;5;124m'\u001b[39m\u001b[38;5;124m0\u001b[39m\u001b[38;5;130;01m\\r\u001b[39;00m\u001b[38;5;130;01m\\n\u001b[39;00m\u001b[38;5;130;01m\\r\u001b[39;00m\u001b[38;5;130;01m\\n\u001b[39;00m\u001b[38;5;124m'\u001b[39m)\n",
      "File \u001b[1;32mc:\\Users\\Abdi\\AppData\\Local\\Programs\\Python\\Python39\\lib\\http\\client.py:971\u001b[0m, in \u001b[0;36mHTTPConnection.send\u001b[1;34m(self, data)\u001b[0m\n\u001b[0;32m    969\u001b[0m     \u001b[38;5;28;01mreturn\u001b[39;00m\n\u001b[0;32m    970\u001b[0m \u001b[38;5;28;01mtry\u001b[39;00m:\n\u001b[1;32m--> 971\u001b[0m     \u001b[38;5;28;43mself\u001b[39;49m\u001b[38;5;241;43m.\u001b[39;49m\u001b[43msock\u001b[49m\u001b[38;5;241;43m.\u001b[39;49m\u001b[43msendall\u001b[49m\u001b[43m(\u001b[49m\u001b[43mdata\u001b[49m\u001b[43m)\u001b[49m\n\u001b[0;32m    972\u001b[0m \u001b[38;5;28;01mexcept\u001b[39;00m \u001b[38;5;167;01mTypeError\u001b[39;00m:\n\u001b[0;32m    973\u001b[0m     \u001b[38;5;28;01mif\u001b[39;00m \u001b[38;5;28misinstance\u001b[39m(data, collections\u001b[38;5;241m.\u001b[39mabc\u001b[38;5;241m.\u001b[39mIterable):\n",
      "File \u001b[1;32mc:\\Users\\Abdi\\AppData\\Local\\Programs\\Python\\Python39\\lib\\ssl.py:1204\u001b[0m, in \u001b[0;36mSSLSocket.sendall\u001b[1;34m(self, data, flags)\u001b[0m\n\u001b[0;32m   1202\u001b[0m         amount \u001b[38;5;241m=\u001b[39m \u001b[38;5;28mlen\u001b[39m(byte_view)\n\u001b[0;32m   1203\u001b[0m         \u001b[38;5;28;01mwhile\u001b[39;00m count \u001b[38;5;241m<\u001b[39m amount:\n\u001b[1;32m-> 1204\u001b[0m             v \u001b[38;5;241m=\u001b[39m \u001b[38;5;28;43mself\u001b[39;49m\u001b[38;5;241;43m.\u001b[39;49m\u001b[43msend\u001b[49m\u001b[43m(\u001b[49m\u001b[43mbyte_view\u001b[49m\u001b[43m[\u001b[49m\u001b[43mcount\u001b[49m\u001b[43m:\u001b[49m\u001b[43m]\u001b[49m\u001b[43m)\u001b[49m\n\u001b[0;32m   1205\u001b[0m             count \u001b[38;5;241m+\u001b[39m\u001b[38;5;241m=\u001b[39m v\n\u001b[0;32m   1206\u001b[0m \u001b[38;5;28;01melse\u001b[39;00m:\n",
      "File \u001b[1;32mc:\\Users\\Abdi\\AppData\\Local\\Programs\\Python\\Python39\\lib\\ssl.py:1173\u001b[0m, in \u001b[0;36mSSLSocket.send\u001b[1;34m(self, data, flags)\u001b[0m\n\u001b[0;32m   1169\u001b[0m     \u001b[38;5;28;01mif\u001b[39;00m flags \u001b[38;5;241m!=\u001b[39m \u001b[38;5;241m0\u001b[39m:\n\u001b[0;32m   1170\u001b[0m         \u001b[38;5;28;01mraise\u001b[39;00m \u001b[38;5;167;01mValueError\u001b[39;00m(\n\u001b[0;32m   1171\u001b[0m             \u001b[38;5;124m\"\u001b[39m\u001b[38;5;124mnon-zero flags not allowed in calls to send() on \u001b[39m\u001b[38;5;132;01m%s\u001b[39;00m\u001b[38;5;124m\"\u001b[39m \u001b[38;5;241m%\u001b[39m\n\u001b[0;32m   1172\u001b[0m             \u001b[38;5;28mself\u001b[39m\u001b[38;5;241m.\u001b[39m\u001b[38;5;18m__class__\u001b[39m)\n\u001b[1;32m-> 1173\u001b[0m     \u001b[38;5;28;01mreturn\u001b[39;00m \u001b[38;5;28;43mself\u001b[39;49m\u001b[38;5;241;43m.\u001b[39;49m\u001b[43m_sslobj\u001b[49m\u001b[38;5;241;43m.\u001b[39;49m\u001b[43mwrite\u001b[49m\u001b[43m(\u001b[49m\u001b[43mdata\u001b[49m\u001b[43m)\u001b[49m\n\u001b[0;32m   1174\u001b[0m \u001b[38;5;28;01melse\u001b[39;00m:\n\u001b[0;32m   1175\u001b[0m     \u001b[38;5;28;01mreturn\u001b[39;00m \u001b[38;5;28msuper\u001b[39m()\u001b[38;5;241m.\u001b[39msend(data, flags)\n",
      "\u001b[1;31mOverflowError\u001b[0m: string longer than 2147483647 bytes"
     ]
    }
   ],
   "source": [
    "# Supposons que 'formatted_weather_data' est votre liste de chaînes formatées.\n",
    "weather_data_strings = formatted_weather_data.tolist()\n",
    "\n",
    "# Concaténation des données pour les inclure dans le prompt\n",
    "combined_data = \" \".join(weather_data_strings)  # Utiliser seulement les 10 premières pour l'exemple\n",
    "\n",
    "# Création du prompt\n",
    "prompt = f\"Voici les conditions météorologiques enregistrées à différentes heures pour tous les stations: {combined_data} Sur la base de ces informations, il ya combien des stations?\"\n",
    "result = call_chatgpt(prompt)\n",
    "print(result)\n",
    "print(prompt)\n"
   ]
  },
  {
   "cell_type": "code",
   "execution_count": 17,
   "metadata": {},
   "outputs": [
    {
     "name": "stdout",
     "output_type": "stream",
     "text": [
      "Error 429: {\n",
      "    \"error\": {\n",
      "        \"message\": \"Request too large for gpt-3.5-turbo in organization org-1E9n2SMyY1aXv1qhmJC660uG on tokens per min (TPM): Limit 160000, Requested 17676569. The input or output tokens must be reduced in order to run successfully. Visit https://platform.openai.com/account/rate-limits to learn more.\",\n",
      "        \"type\": \"tokens\",\n",
      "        \"param\": null,\n",
      "        \"code\": \"rate_limit_exceeded\"\n",
      "    }\n",
      "}\n",
      "\n"
     ]
    }
   ],
   "source": [
    "import pandas as pd\n",
    "\n",
    "# Charger vos données dans un DataFrame (supposons que cela soit déjà fait et que le DataFrame s'appelle 'data')\n",
    "\n",
    "# Filtrer les données pour la station 'Sion'\n",
    "sion_data = data[data['station_name'] == 'Sion']\n",
    "\n",
    "# Formater chaque ligne de données filtrées\n",
    "def format_weather_data(row):\n",
    "    return (\n",
    "        f\"Le jour {row['day_of_year']} de l'année {row['year']}, à {row['minute_of_day']} minutes après minuit, \"\n",
    "        f\"la station météorologique {row['station_name']} (code {row['station_code']}) située à une altitude de {row['altitude']} mètres, \"\n",
    "        f\"a enregistré une température de l'air de {row['temperature_2m']}°C, une température ressentie de {row['wind_chill']}°C, \"\n",
    "        f\"une pression atmosphérique de {row['atmospheric_pressure']} hPa, une humidité de {row['humidity_2m']}%, \"\n",
    "        f\"des précipitations de {row['precipitation_1h']} mm, et une profondeur de neige de {row['snow_depth']} cm. \"\n",
    "        f\"La vitesse du vent était de {row['wind_speed_10m']} m/s venant de la direction {row['wind_direction_10m']} degrés.\"\n",
    "    )\n",
    "\n",
    "formatted_sion_data = sion_data.apply(format_weather_data, axis=1)\n",
    "\n",
    "# Concaténer les données formatées\n",
    "combined_sion_data = \" \".join(formatted_sion_data.tolist())\n",
    "\n",
    "# Créer le prompt\n",
    "prompt = (f\"Voici les conditions météorologiques enregistrées à différentes heures pour la station Sion: {combined_sion_data} Sur la base de ces informations, pouvez-vous fournir une analyse des tendances météorologiques observées et prédire les conditions pour le reste de la semaine?\")\n",
    "\n",
    "# Utilisation du prompt pour interroger un modèle de langage\n",
    "result = call_chatgpt(prompt)\n",
    "print(result)\n"
   ]
  },
  {
   "cell_type": "code",
   "execution_count": 19,
   "metadata": {},
   "outputs": [
    {
     "name": "stdout",
     "output_type": "stream",
     "text": [
      "Error 429: {\n",
      "    \"error\": {\n",
      "        \"message\": \"Request too large for gpt-3.5-turbo in organization org-1E9n2SMyY1aXv1qhmJC660uG on tokens per min (TPM): Limit 160000, Requested 17676569. The input or output tokens must be reduced in order to run successfully. Visit https://platform.openai.com/account/rate-limits to learn more.\",\n",
      "        \"type\": \"tokens\",\n",
      "        \"param\": null,\n",
      "        \"code\": \"rate_limit_exceeded\"\n",
      "    }\n",
      "}\n",
      "\n"
     ]
    }
   ],
   "source": [
    "\n",
    "\n",
    "# Filtrer les données pour la station 'Sion'\n",
    "\n",
    "sion_2020_data = data[(data['station_name'] == 'Sion') & (data['year'] == 2020)]\n",
    "\n",
    "\n",
    "# Formater chaque ligne de données filtrées\n",
    "def format_weather_data(row):\n",
    "    return (\n",
    "        f\"Le jour {row['day_of_year']} de l'année {row['year']}, à {row['minute_of_day']} minutes après minuit, \"\n",
    "        f\"la station météorologique {row['station_name']} (code {row['station_code']}) située à une altitude de {row['altitude']} mètres, \"\n",
    "        f\"a enregistré une température de l'air de {row['temperature_2m']}°C, une température ressentie de {row['wind_chill']}°C, \"\n",
    "        f\"une pression atmosphérique de {row['atmospheric_pressure']} hPa, une humidité de {row['humidity_2m']}%, \"\n",
    "        f\"des précipitations de {row['precipitation_1h']} mm, et une profondeur de neige de {row['snow_depth']} cm. \"\n",
    "        f\"La vitesse du vent était de {row['wind_speed_10m']} m/s venant de la direction {row['wind_direction_10m']} degrés.\"\n",
    "    )\n",
    "\n",
    "formatted_sion_data = sion_data.apply(format_weather_data, axis=1)\n",
    "\n",
    "# Concaténer les données formatées\n",
    "combined_sion_data = \" \".join(formatted_sion_data.tolist())\n",
    "\n",
    "# Créer le prompt\n",
    "prompt = (f\"Voici les conditions météorologiques enregistrées à différentes heures pour la station Sion: {combined_sion_data} Sur la base de ces informations, pouvez-vous fournir une analyse des tendances météorologiques observées et prédire les conditions pour le reste de la semaine?\")\n",
    "\n",
    "# Utilisation du prompt pour interroger un modèle de langage\n",
    "result = call_chatgpt(prompt)\n",
    "print(result)\n"
   ]
  },
  {
   "cell_type": "code",
   "execution_count": 20,
   "metadata": {},
   "outputs": [
    {
     "data": {
      "text/plain": [
       "Index(['station_code', 'wind_chill', 'solar_radiation', 'atmospheric_pressure',\n",
       "       'temperature_2m', 'precipitation_1h', 'humidity_2m', 'snow_depth',\n",
       "       'wind_speed_10m', 'wind_direction_10m', 'year', 'day_of_year',\n",
       "       'minute_of_day', 'station_name', 'longitude', 'latitude',\n",
       "       'longitude_km', 'latitude_km', 'altitude'],\n",
       "      dtype='object')"
      ]
     },
     "execution_count": 20,
     "metadata": {},
     "output_type": "execute_result"
    }
   ],
   "source": [
    "data.columns"
   ]
  },
  {
   "cell_type": "code",
   "execution_count": 22,
   "metadata": {},
   "outputs": [
    {
     "name": "stdout",
     "output_type": "stream",
     "text": [
      "Year range: 2020 2022\n",
      "Day of year range: 1 366\n",
      "        date  month\n",
      "0 2020-01-01      1\n",
      "1 2020-01-01      1\n",
      "2 2020-01-01      1\n",
      "3 2020-01-01      1\n",
      "4 2020-01-01      1\n"
     ]
    }
   ],
   "source": [
    "import pandas as pd\n",
    "\n",
    "# Chargement de votre DataFrame\n",
    "# data = pd.read_your_data_method()\n",
    "\n",
    "# Assurez-vous que 'year' et 'day_of_year' sont du bon type\n",
    "data['year'] = data['year'].astype(int)\n",
    "data['day_of_year'] = data['day_of_year'].astype(int)\n",
    "\n",
    "# Vérifiez les valeurs max et min pour s'assurer qu'elles sont dans le range attendu\n",
    "print('Year range:', data['year'].min(), data['year'].max())\n",
    "print('Day of year range:', data['day_of_year'].min(), data['day_of_year'].max())\n",
    "\n",
    "# Convertir 'year' et 'day_of_year' en une colonne datetime\n",
    "try:\n",
    "    data['date'] = pd.to_datetime(data['year'].astype(str) + data['day_of_year'].astype(str).str.zfill(3), format='%Y%j')\n",
    "    data['month'] = data['date'].dt.month\n",
    "    print(data[['date', 'month']].head())\n",
    "except ValueError as e:\n",
    "    print(\"Error converting to datetime:\", e)\n"
   ]
  },
  {
   "cell_type": "code",
   "execution_count": 23,
   "metadata": {},
   "outputs": [
    {
     "name": "stdout",
     "output_type": "stream",
     "text": [
      "        date  month\n",
      "0 2020-01-01      1\n",
      "1 2020-01-01      1\n",
      "2 2020-01-01      1\n",
      "3 2020-01-01      1\n",
      "4 2020-01-01      1\n"
     ]
    }
   ],
   "source": [
    "import pandas as pd\n",
    "\n",
    "# Supposons que votre DataFrame s'appelle 'data'\n",
    "\n",
    "# Convertir 'year' et 'day_of_year' en une colonne datetime\n",
    "data['date'] = pd.to_datetime(data['year'].astype(str) + data['day_of_year'].astype(str), format='%Y%j')\n",
    "\n",
    "# Extraire le mois de la nouvelle colonne de date\n",
    "data['month'] = data['date'].dt.month\n",
    "\n",
    "# Maintenant, vous pouvez vérifier les premières lignes pour voir la nouvelle colonne 'month'\n",
    "print(data[['date', 'month']].head())\n"
   ]
  },
  {
   "cell_type": "markdown",
   "metadata": {},
   "source": [
    "Script Python pour Filtrer les Données pour \"Sion\" en Juillet 2020\n",
    "\n"
   ]
  },
  {
   "cell_type": "code",
   "execution_count": 25,
   "metadata": {},
   "outputs": [
    {
     "name": "stdout",
     "output_type": "stream",
     "text": [
      "Error 429: {\n",
      "    \"error\": {\n",
      "        \"message\": \"Request too large for gpt-3.5-turbo in organization org-1E9n2SMyY1aXv1qhmJC660uG on tokens per min (TPM): Limit 160000, Requested 499832. The input or output tokens must be reduced in order to run successfully. Visit https://platform.openai.com/account/rate-limits to learn more.\",\n",
      "        \"type\": \"tokens\",\n",
      "        \"param\": null,\n",
      "        \"code\": \"rate_limit_exceeded\"\n",
      "    }\n",
      "}\n",
      "\n"
     ]
    }
   ],
   "source": [
    "# Filtrer pour juillet 2020 et la station Sion\n",
    "sion_juillet_2020_data = data[(data['station_name'] == 'Sion') & (data['month'] == 7) & (data['year'] == 2020)]\n",
    "\n",
    "# Formatter les données filtrées pour un modèle de langage\n",
    "def format_weather_data(row):\n",
    "    return (\n",
    "        f\"Le jour {row['day_of_year']} de l'année {row['year']}, à {row['minute_of_day']} minutes après minuit, \"\n",
    "        f\"la station météorologique {row['station_name']} (code {row['station_code']}) située à une altitude de {row['altitude']} mètres, \"\n",
    "        f\"a enregistré une température de l'air de {row['temperature_2m']}°C, une température ressentie de {row['wind_chill']}°C, \"\n",
    "        f\"une pression atmosphérique de {row['atmospheric_pressure']} hPa, une humidité de {row['humidity_2m']}%, \"\n",
    "        f\"des précipitations de {row['precipitation_1h']} mm, et une profondeur de neige de {row['snow_depth']} cm. \"\n",
    "        f\"La vitesse du vent était de {row['wind_speed_10m']} m/s venant de la direction {row['wind_direction_10m']} degrés.\"\n",
    "    )\n",
    "\n",
    "formatted_sion_juillet_2020_data = sion_juillet_2020_data.apply(format_weather_data, axis=1)\n",
    "\n",
    "# Concaténer les données formatées\n",
    "combined_sion_juillet_2020_data = \" \".join(formatted_sion_juillet_2020_data.tolist())\n",
    "\n",
    "# Créer le prompt\n",
    "prompt = (f\"Voici les conditions météorologiques enregistrées à différentes heures pour la station Sion en juillet 2020: {combined_sion_juillet_2020_data} Sur la base de ces informations, pouvez-vous fournir une analyse des tendances météorologiques observées et prédire les conditions pour le reste de l'été?\")\n",
    "\n",
    "# Utilisation du prompt pour interroger un modèle de langage\n",
    "result = call_chatgpt(prompt)\n",
    "print(result)\n"
   ]
  },
  {
   "cell_type": "code",
   "execution_count": 26,
   "metadata": {},
   "outputs": [
    {
     "name": "stdout",
     "output_type": "stream",
     "text": [
      "Error 400: {\n",
      "  \"error\": {\n",
      "    \"message\": \"This model's maximum context length is 16385 tokens. However, your messages resulted in 22150 tokens. Please reduce the length of the messages.\",\n",
      "    \"type\": \"invalid_request_error\",\n",
      "    \"param\": \"messages\",\n",
      "    \"code\": \"context_length_exceeded\"\n",
      "  }\n",
      "}\n",
      "\n"
     ]
    }
   ],
   "source": [
    "# Filtrer pour le 1er juillet 2020 et la station Sion\n",
    "sion_1_juillet_2020_data = data[(data['station_name'] == 'Sion') & (data['month'] == 7) & (data['year'] == 2020) & (data['day_of_year'] == 183)]\n",
    "\n",
    "# Formatter les données filtrées pour un modèle de langage\n",
    "def format_weather_data(row):\n",
    "    return (\n",
    "        f\"Le 1er juillet 2020, à {row['minute_of_day']} minutes après minuit, \"\n",
    "        f\"la station météorologique {row['station_name']} (code {row['station_code']}) située à une altitude de {row['altitude']} mètres, \"\n",
    "        f\"a enregistré une température de l'air de {row['temperature_2m']}°C, une température ressentie de {row['wind_chill']}°C, \"\n",
    "        f\"une pression atmosphérique de {row['atmospheric_pressure']} hPa, une humidité de {row['humidity_2m']}%, \"\n",
    "        f\"des précipitations de {row['precipitation_1h']} mm, et une profondeur de neige de {row['snow_depth']} cm. \"\n",
    "        f\"La vitesse du vent était de {row['wind_speed_10m']} m/s venant de la direction {row['wind_direction_10m']} degrés.\"\n",
    "    )\n",
    "\n",
    "formatted_sion_1_juillet_2020_data = sion_1_juillet_2020_data.apply(format_weather_data, axis=1)\n",
    "\n",
    "# Concaténer les données formatées\n",
    "combined_sion_1_juillet_2020_data = \" \".join(formatted_sion_1_juillet_2020_data.tolist())\n",
    "\n",
    "# Créer le prompt\n",
    "prompt = f\"Voici les conditions météorologiques enregistrées à différentes heures pour la station Sion le 1er juillet 2020: {combined_sion_1_juillet_2020_data} Sur la base de ces informations, pouvez-vous fournir une analyse des tendances météorologiques observées et prédire les conditions pour le reste de l'été?\"\n",
    "\n",
    "# Utilisation du prompt pour interroger un modèle de langage\n",
    "result = call_chatgpt(prompt)\n",
    "print(result)\n"
   ]
  },
  {
   "cell_type": "code",
   "execution_count": 27,
   "metadata": {},
   "outputs": [
    {
     "name": "stdout",
     "output_type": "stream",
     "text": [
      "Error 400: {\n",
      "  \"error\": {\n",
      "    \"message\": \"This model's maximum context length is 16385 tokens. However, your messages resulted in 22150 tokens. Please reduce the length of the messages.\",\n",
      "    \"type\": \"invalid_request_error\",\n",
      "    \"param\": \"messages\",\n",
      "    \"code\": \"context_length_exceeded\"\n",
      "  }\n",
      "}\n",
      "\n"
     ]
    }
   ],
   "source": [
    "# Filtrer pour le 1er juillet 2020 et la station Sion\n",
    "sion_1_juillet_2020_data = data[(data['station_name'] == 'Sion') & (data['month'] == 7) & (data['year'] == 2020) & (data['day_of_year'] == 183)]\n",
    "\n",
    "# Formatter les données filtrées pour un modèle de langage\n",
    "def format_weather_data(row):\n",
    "    return (\n",
    "        f\"Le 1er juillet 2020, à {row['minute_of_day']} minutes après minuit, \"\n",
    "        f\"la station météorologique {row['station_name']} (code {row['station_code']}) située à une altitude de {row['altitude']} mètres, \"\n",
    "        f\"a enregistré une température de l'air de {row['temperature_2m']}°C, une température ressentie de {row['wind_chill']}°C, \"\n",
    "        f\"une pression atmosphérique de {row['atmospheric_pressure']} hPa, une humidité de {row['humidity_2m']}%, \"\n",
    "        f\"des précipitations de {row['precipitation_1h']} mm, et une profondeur de neige de {row['snow_depth']} cm. \"\n",
    "        f\"La vitesse du vent était de {row['wind_speed_10m']} m/s venant de la direction {row['wind_direction_10m']} degrés.\"\n",
    "    )\n",
    "\n",
    "formatted_sion_1_juillet_2020_data = sion_1_juillet_2020_data.apply(format_weather_data, axis=1)\n",
    "\n",
    "# Concaténer les données formatées\n",
    "combined_sion_1_juillet_2020_data = \" \".join(formatted_sion_1_juillet_2020_data.tolist())\n",
    "\n",
    "# Créer le prompt\n",
    "prompt = f\"Voici les conditions météorologiques enregistrées à différentes heures pour la station Sion le 1er juillet 2020: {combined_sion_1_juillet_2020_data} Sur la base de ces informations, pouvez-vous fournir une analyse des tendances météorologiques observées et prédire les conditions pour le reste de l'été?\"\n",
    "\n",
    "# Utilisation du prompt pour interroger un modèle de langage\n",
    "result = call_chatgpt(prompt)\n",
    "print(result)"
   ]
  },
  {
   "cell_type": "markdown",
   "metadata": {},
   "source": [
    "Script Python pour Extraire les Données Essentielles"
   ]
  },
  {
   "cell_type": "code",
   "execution_count": 28,
   "metadata": {},
   "outputs": [
    {
     "name": "stdout",
     "output_type": "stream",
     "text": [
      "Voici les données météorologiques essentielles pour la station Sion le 1er juillet 2020 à différentes heures: À 0 minutes après minuit, température: 18.3°C, précipitations: 0.0 mm, humidité: 76.1%, rayonnement solaire: 0.0 W/m². À 10 minutes après minuit, température: 17.3°C, précipitations: 0.0 mm, humidité: 82.8%, rayonnement solaire: 0.0 W/m². À 20 minutes après minuit, température: 17.4°C, précipitations: 0.0 mm, humidité: 81.7%, rayonnement solaire: 0.0 W/m². À 30 minutes après minuit, température: 17.1°C, précipitations: 0.0 mm, humidité: 81.2%, rayonnement solaire: 0.0 W/m². À 40 minutes après minuit, température: 16.7°C, précipitations: 0.0 mm, humidité: 82.3%, rayonnement solaire: 0.0 W/m². À 50 minutes après minuit, température: 15.4°C, précipitations: 0.0 mm, humidité: 91.6%, rayonnement solaire: 0.0 W/m². À 60 minutes après minuit, température: 17.9°C, précipitations: 0.0 mm, humidité: 76.8%, rayonnement solaire: 0.0 W/m². À 70 minutes après minuit, température: 15.9°C, précipitations: 0.0 mm, humidité: 87.3%, rayonnement solaire: 0.0 W/m². À 80 minutes après minuit, température: 16.2°C, précipitations: 0.0 mm, humidité: 86.7%, rayonnement solaire: 0.0 W/m². À 90 minutes après minuit, température: 14.7°C, précipitations: 0.0 mm, humidité: 94.6%, rayonnement solaire: 0.0 W/m². À 100 minutes après minuit, température: 16.0°C, précipitations: 0.0 mm, humidité: 87.3%, rayonnement solaire: 0.0 W/m². À 110 minutes après minuit, température: 16.4°C, précipitations: 0.0 mm, humidité: 86.8%, rayonnement solaire: 0.0 W/m². À 120 minutes après minuit, température: 15.2°C, précipitations: 0.0 mm, humidité: 91.0%, rayonnement solaire: 0.0 W/m². À 130 minutes après minuit, température: 17.3°C, précipitations: 0.0 mm, humidité: 82.4%, rayonnement solaire: 0.0 W/m². À 140 minutes après minuit, température: 15.2°C, précipitations: 0.0 mm, humidité: 92.6%, rayonnement solaire: 0.0 W/m². À 150 minutes après minuit, température: 15.1°C, précipitations: 0.0 mm, humidité: 92.1%, rayonnement solaire: 0.0 W/m². À 160 minutes après minuit, température: 14.6°C, précipitations: 0.0 mm, humidité: 95.2%, rayonnement solaire: 0.0 W/m². À 170 minutes après minuit, température: 16.1°C, précipitations: 0.0 mm, humidité: 86.9%, rayonnement solaire: 0.0 W/m². À 180 minutes après minuit, température: 15.7°C, précipitations: 0.0 mm, humidité: 89.3%, rayonnement solaire: 0.0 W/m². À 190 minutes après minuit, température: 14.6°C, précipitations: 0.0 mm, humidité: 94.4%, rayonnement solaire: 0.0 W/m². À 200 minutes après minuit, température: 16.1°C, précipitations: 0.0 mm, humidité: 85.8%, rayonnement solaire: 0.0 W/m². À 210 minutes après minuit, température: 16.0°C, précipitations: 0.0 mm, humidité: 84.1%, rayonnement solaire: 0.0 W/m². À 220 minutes après minuit, température: 14.9°C, précipitations: 0.0 mm, humidité: 90.0%, rayonnement solaire: 1.0 W/m². À 230 minutes après minuit, température: 16.1°C, précipitations: 0.0 mm, humidité: 83.6%, rayonnement solaire: 4.0 W/m². À 240 minutes après minuit, température: 16.4°C, précipitations: 0.0 mm, humidité: 81.9%, rayonnement solaire: 9.0 W/m². À 250 minutes après minuit, température: 15.3°C, précipitations: 0.0 mm, humidité: 88.9%, rayonnement solaire: 16.0 W/m². À 260 minutes après minuit, température: 16.0°C, précipitations: 0.0 mm, humidité: 87.0%, rayonnement solaire: 40.0 W/m². À 270 minutes après minuit, température: 16.8°C, précipitations: 0.0 mm, humidité: 83.0%, rayonnement solaire: 64.0 W/m². À 280 minutes après minuit, température: 16.8°C, précipitations: 0.0 mm, humidité: 82.7%, rayonnement solaire: 46.0 W/m². À 290 minutes après minuit, température: 16.7°C, précipitations: 0.0 mm, humidité: 85.8%, rayonnement solaire: 72.0 W/m². À 300 minutes après minuit, température: 17.9°C, précipitations: 0.0 mm, humidité: 82.7%, rayonnement solaire: 139.0 W/m². À 310 minutes après minuit, température: 17.7°C, précipitations: 0.0 mm, humidité: 81.9%, rayonnement solaire: 82.0 W/m². À 320 minutes après minuit, température: 17.7°C, précipitations: 0.0 mm, humidité: 82.8%, rayonnement solaire: 97.0 W/m². À 330 minutes après minuit, température: 18.0°C, précipitations: 0.0 mm, humidité: 80.1%, rayonnement solaire: 121.0 W/m². À 340 minutes après minuit, température: 18.1°C, précipitations: 0.0 mm, humidité: 80.2%, rayonnement solaire: 120.0 W/m². À 350 minutes après minuit, température: 18.0°C, précipitations: 0.0 mm, humidité: 79.6%, rayonnement solaire: 110.0 W/m². À 360 minutes après minuit, température: 19.1°C, précipitations: 0.0 mm, humidité: 75.8%, rayonnement solaire: 251.0 W/m². À 370 minutes après minuit, température: 19.3°C, précipitations: 0.0 mm, humidité: 73.8%, rayonnement solaire: 335.0 W/m². À 380 minutes après minuit, température: 19.8°C, précipitations: 0.0 mm, humidité: 72.8%, rayonnement solaire: 365.0 W/m². À 390 minutes après minuit, température: 20.5°C, précipitations: 0.0 mm, humidité: 68.8%, rayonnement solaire: 401.0 W/m². À 400 minutes après minuit, température: 21.0°C, précipitations: 0.0 mm, humidité: 66.1%, rayonnement solaire: 422.0 W/m². À 410 minutes après minuit, température: 21.6°C, précipitations: 0.0 mm, humidité: 65.3%, rayonnement solaire: 453.0 W/m². À 420 minutes après minuit, température: 21.7°C, précipitations: 0.0 mm, humidité: 62.8%, rayonnement solaire: 479.0 W/m². À 430 minutes après minuit, température: 21.8°C, précipitations: 0.0 mm, humidité: 60.7%, rayonnement solaire: 518.0 W/m². À 440 minutes après minuit, température: 22.2°C, précipitations: 0.0 mm, humidité: 61.1%, rayonnement solaire: 489.0 W/m². À 450 minutes après minuit, température: 22.5°C, précipitations: 0.0 mm, humidité: 60.0%, rayonnement solaire: 556.0 W/m². À 460 minutes après minuit, température: 23.0°C, précipitations: 0.0 mm, humidité: 62.6%, rayonnement solaire: 525.0 W/m². À 470 minutes après minuit, température: 23.3°C, précipitations: 0.0 mm, humidité: 59.6%, rayonnement solaire: 650.0 W/m². À 480 minutes après minuit, température: 23.5°C, précipitations: 0.0 mm, humidité: 60.0%, rayonnement solaire: 674.0 W/m². À 490 minutes après minuit, température: 23.3°C, précipitations: 0.0 mm, humidité: 55.7%, rayonnement solaire: 721.0 W/m². À 500 minutes après minuit, température: 24.2°C, précipitations: 0.0 mm, humidité: 52.7%, rayonnement solaire: 730.0 W/m². À 510 minutes après minuit, température: 24.4°C, précipitations: 0.0 mm, humidité: 55.0%, rayonnement solaire: 733.0 W/m². À 520 minutes après minuit, température: 25.0°C, précipitations: 0.0 mm, humidité: 52.5%, rayonnement solaire: 746.0 W/m². À 530 minutes après minuit, température: 25.4°C, précipitations: 0.0 mm, humidité: 51.9%, rayonnement solaire: 645.0 W/m². À 540 minutes après minuit, température: 24.5°C, précipitations: 0.0 mm, humidité: 51.6%, rayonnement solaire: 577.0 W/m². À 550 minutes après minuit, température: 25.4°C, précipitations: 0.0 mm, humidité: 48.4%, rayonnement solaire: 842.0 W/m². À 560 minutes après minuit, température: 25.7°C, précipitations: 0.0 mm, humidité: 54.3%, rayonnement solaire: 793.0 W/m². À 570 minutes après minuit, température: 26.1°C, précipitations: 0.0 mm, humidité: 50.0%, rayonnement solaire: 864.0 W/m². À 580 minutes après minuit, température: 26.7°C, précipitations: 0.0 mm, humidité: 49.6%, rayonnement solaire: 806.0 W/m². À 590 minutes après minuit, température: 27.1°C, précipitations: 0.0 mm, humidité: 47.3%, rayonnement solaire: 908.0 W/m². À 600 minutes après minuit, température: 27.4°C, précipitations: 0.0 mm, humidité: 45.3%, rayonnement solaire: 921.0 W/m². À 610 minutes après minuit, température: 26.5°C, précipitations: 0.0 mm, humidité: 47.7%, rayonnement solaire: 482.0 W/m². À 620 minutes après minuit, température: 26.9°C, précipitations: 0.0 mm, humidité: 45.7%, rayonnement solaire: 581.0 W/m². À 630 minutes après minuit, température: 27.3°C, précipitations: 0.0 mm, humidité: 46.1%, rayonnement solaire: 749.0 W/m². À 640 minutes après minuit, température: 28.1°C, précipitations: 0.0 mm, humidité: 47.8%, rayonnement solaire: 977.0 W/m². À 650 minutes après minuit, température: 27.6°C, précipitations: 0.0 mm, humidité: 45.8%, rayonnement solaire: 891.0 W/m². À 660 minutes après minuit, température: 28.3°C, précipitations: 0.0 mm, humidité: 47.5%, rayonnement solaire: 838.0 W/m². À 670 minutes après minuit, température: 27.6°C, précipitations: 0.0 mm, humidité: 42.2%, rayonnement solaire: 995.0 W/m². À 680 minutes après minuit, température: 28.3°C, précipitations: 0.0 mm, humidité: 45.9%, rayonnement solaire: 994.0 W/m². À 690 minutes après minuit, température: 28.2°C, précipitations: 0.0 mm, humidité: 49.1%, rayonnement solaire: 982.0 W/m². À 700 minutes après minuit, température: 27.9°C, précipitations: 0.0 mm, humidité: 48.6%, rayonnement solaire: 881.0 W/m². À 710 minutes après minuit, température: 28.1°C, précipitations: 0.0 mm, humidité: 48.4%, rayonnement solaire: 950.0 W/m². À 720 minutes après minuit, température: 28.0°C, précipitations: 0.0 mm, humidité: 49.0%, rayonnement solaire: 988.0 W/m². À 730 minutes après minuit, température: 28.7°C, précipitations: 0.0 mm, humidité: 46.5%, rayonnement solaire: 982.0 W/m². À 740 minutes après minuit, température: 29.1°C, précipitations: 0.0 mm, humidité: 47.0%, rayonnement solaire: 877.0 W/m². À 750 minutes après minuit, température: 30.0°C, précipitations: 0.0 mm, humidité: 41.5%, rayonnement solaire: 1018.0 W/m². À 760 minutes après minuit, température: 30.3°C, précipitations: 0.0 mm, humidité: 41.2%, rayonnement solaire: 972.0 W/m². À 770 minutes après minuit, température: 29.8°C, précipitations: 0.0 mm, humidité: 39.7%, rayonnement solaire: 962.0 W/m². À 780 minutes après minuit, température: 30.5°C, précipitations: 0.0 mm, humidité: 37.7%, rayonnement solaire: 957.0 W/m². À 790 minutes après minuit, température: 30.9°C, précipitations: 0.0 mm, humidité: 37.4%, rayonnement solaire: 942.0 W/m². À 800 minutes après minuit, température: 30.3°C, précipitations: 0.0 mm, humidité: 37.8%, rayonnement solaire: 931.0 W/m². À 810 minutes après minuit, température: 31.1°C, précipitations: 0.0 mm, humidité: 36.3%, rayonnement solaire: 950.0 W/m². À 820 minutes après minuit, température: 30.3°C, précipitations: 0.0 mm, humidité: 39.4%, rayonnement solaire: 944.0 W/m². À 830 minutes après minuit, température: 29.6°C, précipitations: 0.0 mm, humidité: 40.2%, rayonnement solaire: 694.0 W/m². À 840 minutes après minuit, température: 28.1°C, précipitations: 0.0 mm, humidité: 43.9%, rayonnement solaire: 208.0 W/m². À 850 minutes après minuit, température: 29.3°C, précipitations: 0.0 mm, humidité: 42.7%, rayonnement solaire: 739.0 W/m². À 860 minutes après minuit, température: 28.0°C, précipitations: 0.0 mm, humidité: 44.0%, rayonnement solaire: 300.0 W/m². À 870 minutes après minuit, température: 28.3°C, précipitations: 0.0 mm, humidité: 44.1%, rayonnement solaire: 396.0 W/m². À 880 minutes après minuit, température: 27.3°C, précipitations: 0.0 mm, humidité: 49.5%, rayonnement solaire: 270.0 W/m². À 890 minutes après minuit, température: 26.5°C, précipitations: 0.0 mm, humidité: 52.5%, rayonnement solaire: 139.0 W/m². À 900 minutes après minuit, température: 26.6°C, précipitations: 0.0 mm, humidité: 52.3%, rayonnement solaire: 168.0 W/m². À 910 minutes après minuit, température: 26.4°C, précipitations: 0.0 mm, humidité: 53.8%, rayonnement solaire: 292.0 W/m². À 920 minutes après minuit, température: 26.5°C, précipitations: 0.0 mm, humidité: 53.1%, rayonnement solaire: 243.0 W/m². À 930 minutes après minuit, température: 25.9°C, précipitations: 0.0 mm, humidité: 57.2%, rayonnement solaire: 282.0 W/m². À 940 minutes après minuit, température: 25.6°C, précipitations: 0.0 mm, humidité: 58.4%, rayonnement solaire: 203.0 W/m². À 950 minutes après minuit, température: 25.1°C, précipitations: 0.0 mm, humidité: 59.2%, rayonnement solaire: 177.0 W/m². À 960 minutes après minuit, température: 24.7°C, précipitations: 0.0 mm, humidité: 61.3%, rayonnement solaire: 121.0 W/m². À 970 minutes après minuit, température: 24.2°C, précipitations: 0.0 mm, humidité: 64.7%, rayonnement solaire: 74.0 W/m². À 980 minutes après minuit, température: 24.0°C, précipitations: 0.0 mm, humidité: 63.0%, rayonnement solaire: 32.0 W/m². À 990 minutes après minuit, température: 23.4°C, précipitations: 0.0 mm, humidité: 68.4%, rayonnement solaire: 22.0 W/m². À 1000 minutes après minuit, température: 23.3°C, précipitations: 0.0 mm, humidité: 68.5%, rayonnement solaire: 45.0 W/m². À 1010 minutes après minuit, température: 23.0°C, précipitations: 0.0 mm, humidité: 72.1%, rayonnement solaire: 48.0 W/m². À 1020 minutes après minuit, température: 22.6°C, précipitations: 0.1 mm, humidité: 61.2%, rayonnement solaire: 35.0 W/m². À 1030 minutes après minuit, température: 22.1°C, précipitations: 0.3 mm, humidité: 64.3%, rayonnement solaire: 38.0 W/m². À 1040 minutes après minuit, température: 21.9°C, précipitations: 0.0 mm, humidité: 68.4%, rayonnement solaire: 50.0 W/m². À 1050 minutes après minuit, température: 21.5°C, précipitations: 0.0 mm, humidité: 72.3%, rayonnement solaire: 46.0 W/m². À 1060 minutes après minuit, température: 21.7°C, précipitations: 0.0 mm, humidité: 74.7%, rayonnement solaire: 65.0 W/m². À 1070 minutes après minuit, température: 21.7°C, précipitations: 0.0 mm, humidité: 82.2%, rayonnement solaire: 56.0 W/m². À 1080 minutes après minuit, température: 21.3°C, précipitations: 0.0 mm, humidité: 84.5%, rayonnement solaire: 32.0 W/m². À 1090 minutes après minuit, température: 22.0°C, précipitations: 0.0 mm, humidité: 77.9%, rayonnement solaire: 24.0 W/m². À 1100 minutes après minuit, température: 21.5°C, précipitations: 0.0 mm, humidité: 79.5%, rayonnement solaire: 18.0 W/m². À 1110 minutes après minuit, température: 21.3°C, précipitations: 0.0 mm, humidité: 82.1%, rayonnement solaire: 19.0 W/m². À 1120 minutes après minuit, température: 21.5°C, précipitations: 0.0 mm, humidité: 76.9%, rayonnement solaire: 10.0 W/m². À 1130 minutes après minuit, température: 21.8°C, précipitations: 0.0 mm, humidité: 69.9%, rayonnement solaire: 4.0 W/m². À 1140 minutes après minuit, température: 21.5°C, précipitations: 0.0 mm, humidité: 78.8%, rayonnement solaire: 3.0 W/m². À 1150 minutes après minuit, température: 21.0°C, précipitations: 0.0 mm, humidité: 82.7%, rayonnement solaire: 1.0 W/m². À 1160 minutes après minuit, température: 20.5°C, précipitations: 0.1 mm, humidité: 80.0%, rayonnement solaire: 0.0 W/m². À 1170 minutes après minuit, température: 19.7°C, précipitations: 0.1 mm, humidité: 79.6%, rayonnement solaire: 0.0 W/m². À 1180 minutes après minuit, température: 18.9°C, précipitations: 0.1 mm, humidité: 80.6%, rayonnement solaire: 0.0 W/m². À 1190 minutes après minuit, température: 18.4°C, précipitations: 0.4 mm, humidité: 85.6%, rayonnement solaire: 0.0 W/m². À 1200 minutes après minuit, température: 19.0°C, précipitations: 0.6 mm, humidité: 81.4%, rayonnement solaire: 0.0 W/m². À 1210 minutes après minuit, température: 19.2°C, précipitations: 0.0 mm, humidité: 78.9%, rayonnement solaire: 0.0 W/m². À 1220 minutes après minuit, température: 17.7°C, précipitations: 0.0 mm, humidité: 94.2%, rayonnement solaire: 0.0 W/m². À 1230 minutes après minuit, température: 18.1°C, précipitations: 0.0 mm, humidité: 90.6%, rayonnement solaire: 0.0 W/m². À 1240 minutes après minuit, température: 18.3°C, précipitations: 0.0 mm, humidité: 89.6%, rayonnement solaire: 0.0 W/m². À 1250 minutes après minuit, température: 18.2°C, précipitations: 0.1 mm, humidité: 92.1%, rayonnement solaire: 0.0 W/m². À 1260 minutes après minuit, température: 18.0°C, précipitations: 0.0 mm, humidité: 92.5%, rayonnement solaire: 0.0 W/m². À 1270 minutes après minuit, température: 18.4°C, précipitations: 0.0 mm, humidité: 88.2%, rayonnement solaire: 0.0 W/m². À 1280 minutes après minuit, température: 18.5°C, précipitations: 0.0 mm, humidité: 89.6%, rayonnement solaire: 0.0 W/m². À 1290 minutes après minuit, température: 18.0°C, précipitations: 0.0 mm, humidité: 92.1%, rayonnement solaire: 0.0 W/m². À 1300 minutes après minuit, température: 18.0°C, précipitations: 0.0 mm, humidité: 93.2%, rayonnement solaire: 0.0 W/m². À 1310 minutes après minuit, température: 18.2°C, précipitations: 0.0 mm, humidité: 94.4%, rayonnement solaire: 0.0 W/m². À 1320 minutes après minuit, température: 17.5°C, précipitations: 0.0 mm, humidité: 97.5%, rayonnement solaire: 0.0 W/m². À 1330 minutes après minuit, température: 17.7°C, précipitations: 0.0 mm, humidité: 95.3%, rayonnement solaire: 0.0 W/m². À 1340 minutes après minuit, température: 18.0°C, précipitations: 0.0 mm, humidité: 94.3%, rayonnement solaire: 0.0 W/m². À 1350 minutes après minuit, température: 17.7°C, précipitations: 0.0 mm, humidité: 96.1%, rayonnement solaire: 0.0 W/m². À 1360 minutes après minuit, température: 17.8°C, précipitations: 0.0 mm, humidité: 93.6%, rayonnement solaire: 0.0 W/m². À 1370 minutes après minuit, température: 17.7°C, précipitations: 0.0 mm, humidité: 95.5%, rayonnement solaire: 0.0 W/m². À 1380 minutes après minuit, température: 17.3°C, précipitations: 0.0 mm, humidité: 96.8%, rayonnement solaire: 0.0 W/m². À 1390 minutes après minuit, température: 17.5°C, précipitations: 0.0 mm, humidité: 92.1%, rayonnement solaire: 0.0 W/m². À 1400 minutes après minuit, température: 17.5°C, précipitations: 0.0 mm, humidité: 93.0%, rayonnement solaire: 0.0 W/m². À 1410 minutes après minuit, température: 17.5°C, précipitations: 0.0 mm, humidité: 94.8%, rayonnement solaire: 0.0 W/m². À 1420 minutes après minuit, température: 16.8°C, précipitations: 0.0 mm, humidité: 97.0%, rayonnement solaire: 0.0 W/m². À 1430 minutes après minuit, température: 17.0°C, précipitations: 0.0 mm, humidité: 94.4%, rayonnement solaire: 0.0 W/m². Sur la base de ces informations, pouvez-vous analyser les conditions et fournir des recommandations pour les activités extérieures ?\n"
     ]
    }
   ],
   "source": [
    "# Filtrer pour le 1er juillet 2020 et la station Sion\n",
    "sion_1_juillet_2020_data = data[(data['station_name'] == 'Sion') & (data['month'] == 7) & (data['year'] == 2020) & (data['day_of_year'] == 183)]\n",
    "\n",
    "# Formatter les données filtrées pour un modèle de langage en se concentrant uniquement sur les variables essentielles\n",
    "def format_weather_data(row):\n",
    "    return (\n",
    "        f\"À {row['minute_of_day']} minutes après minuit, température: {row['temperature_2m']}°C, \"\n",
    "        f\"précipitations: {row['precipitation_1h']} mm, humidité: {row['humidity_2m']}%, \"\n",
    "        f\"rayonnement solaire: {row['solar_radiation']} W/m².\"\n",
    "    )\n",
    "\n",
    "formatted_sion_1_juillet_2020_data = sion_1_juillet_2020_data.apply(format_weather_data, axis=1)\n",
    "\n",
    "# Concaténer les données formatées\n",
    "combined_sion_1_juillet_2020_data = \" \".join(formatted_sion_1_juillet_2020_data.tolist())\n",
    "\n",
    "# Créer le prompt\n",
    "prompt = f\"Voici les données météorologiques essentielles pour la station Sion le 1er juillet 2020 à différentes heures: {combined_sion_1_juillet_2020_data} Sur la base de ces informations, pouvez-vous analyser les conditions et fournir des recommandations pour les activités extérieures ?\"\n",
    "\n",
    "# Utilisation du prompt pour interroger un modèle de langage\n",
    "print(prompt)\n"
   ]
  },
  {
   "cell_type": "code",
   "execution_count": 29,
   "metadata": {},
   "outputs": [
    {
     "name": "stdout",
     "output_type": "stream",
     "text": [
      "Les données météorologiques montrent que la température à Sion varie entre 14.6°C et 31.1°C au cours de la journée du 1er juillet 2020, avec un taux d'humidité allant de 37.4% à 97.5%. Il n'y a pas de précipitations et le rayonnement solaire varie de 0.0 W/m² à 1000 W/m².\n",
      "\n",
      "En analysant ces informations, voici quelques recommandations pour les activités extérieures:\n",
      "\n",
      "- Le matin et en début d'après-midi, il est recommandé de profiter du temps ensoleillé mais de rester hydraté et de se protéger du soleil en utilisant de la crème solaire et en portant un chapeau.\n",
      "- En milieu d'après-midi, lorsque la température est la plus élevée, il est conseillé de rechercher des endroits ombragés pour éviter les coups de chaleur et de maintenir une hydratation adéquate.\n",
      "- En fin d'après-midi et en soirée, lorsque la température commence à baisser, c'est un bon moment pour les activités extérieures plus intenses comme le sport ou une promenade.\n",
      "- Il est important de rester informé des conditions météorologiques locales pendant la journée et d'adapter les activités en fonction des variations de température et d'humidité.\n",
      "\n",
      "En résumé, il est recommandé de profiter du temps ensoleillé tout en restant vigilant face aux conditions météorologiques changeantes et en prenant des mesures pour se protéger du soleil et rester hydraté.\n"
     ]
    }
   ],
   "source": [
    "result = call_chatgpt(prompt)\n",
    "print(result)"
   ]
  }
 ],
 "metadata": {
  "kernelspec": {
   "display_name": "Python 3",
   "language": "python",
   "name": "python3"
  },
  "language_info": {
   "codemirror_mode": {
    "name": "ipython",
    "version": 3
   },
   "file_extension": ".py",
   "mimetype": "text/x-python",
   "name": "python",
   "nbconvert_exporter": "python",
   "pygments_lexer": "ipython3",
   "version": "3.9.1"
  }
 },
 "nbformat": 4,
 "nbformat_minor": 2
}
